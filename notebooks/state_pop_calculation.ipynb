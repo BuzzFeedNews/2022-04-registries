{
 "cells": [
  {
   "cell_type": "code",
   "execution_count": 1,
   "id": "fewer-baseball",
   "metadata": {},
   "outputs": [],
   "source": [
    "# for the total population figure in the story"
   ]
  },
  {
   "cell_type": "code",
   "execution_count": 2,
   "id": "bright-modeling",
   "metadata": {},
   "outputs": [],
   "source": [
    "import pandas as pd"
   ]
  },
  {
   "cell_type": "code",
   "execution_count": 27,
   "id": "banned-question",
   "metadata": {},
   "outputs": [
    {
     "data": {
      "text/plain": [
       "106809739"
      ]
     },
     "execution_count": 27,
     "metadata": {},
     "output_type": "execute_result"
    }
   ],
   "source": [
    "states = pd.read_csv(\"../data/national/state_B03002.csv\").loc[ lambda x: x[\"year\"] == 2020]\n",
    "\n",
    "myStates = states.loc[\n",
    "    lambda x: x[\"state\"].isin([\n",
    "        \"Arizona\",\n",
    "        \"California\",\n",
    "        \"Michigan\",\n",
    "        \"New Jersey\",\n",
    "        \"Pennsylvania\",\n",
    "        \"Texas\"\n",
    "    ])]\n",
    "\n",
    "myStates[\"total\"].sum()\n",
    "\n"
   ]
  },
  {
   "cell_type": "code",
   "execution_count": 34,
   "id": "equivalent-monthly",
   "metadata": {},
   "outputs": [
    {
     "data": {
      "text/plain": [
       "0.3238376569146755"
      ]
     },
     "execution_count": 34,
     "metadata": {},
     "output_type": "execute_result"
    }
   ],
   "source": [
    "(myStates[\"total\"].sum()) / (states[\"total\"].sum())"
   ]
  },
  {
   "cell_type": "code",
   "execution_count": 36,
   "id": "reduced-trick",
   "metadata": {},
   "outputs": [
    {
     "data": {
      "text/plain": [
       "106.809739"
      ]
     },
     "execution_count": 36,
     "metadata": {},
     "output_type": "execute_result"
    }
   ],
   "source": [
    "myStates[\"total\"].sum()/1000000"
   ]
  },
  {
   "cell_type": "code",
   "execution_count": null,
   "id": "certain-browser",
   "metadata": {},
   "outputs": [],
   "source": []
  }
 ],
 "metadata": {
  "kernelspec": {
   "display_name": "Python 3",
   "language": "python",
   "name": "python3"
  },
  "language_info": {
   "codemirror_mode": {
    "name": "ipython",
    "version": 3
   },
   "file_extension": ".py",
   "mimetype": "text/x-python",
   "name": "python",
   "nbconvert_exporter": "python",
   "pygments_lexer": "ipython3",
   "version": "3.8.0"
  }
 },
 "nbformat": 4,
 "nbformat_minor": 5
}
