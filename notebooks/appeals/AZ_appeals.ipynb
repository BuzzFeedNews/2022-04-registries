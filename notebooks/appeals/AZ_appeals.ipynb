{
 "cells": [
  {
   "cell_type": "markdown",
   "id": "2f4a371a",
   "metadata": {
    "execution": {
     "iopub.execute_input": "2022-04-18T14:56:49.467296Z",
     "iopub.status.busy": "2022-04-18T14:56:49.466476Z",
     "iopub.status.idle": "2022-04-18T14:56:49.468767Z",
     "shell.execute_reply": "2022-04-18T14:56:49.469287Z"
    }
   },
   "source": [
    "## Analyze appeals data from the Arizona Department of Child Safety"
   ]
  },
  {
   "cell_type": "code",
   "execution_count": 1,
   "id": "grave-journalism",
   "metadata": {
    "execution": {
     "iopub.execute_input": "2022-04-26T20:35:07.315350Z",
     "iopub.status.busy": "2022-04-26T20:35:07.314552Z",
     "iopub.status.idle": "2022-04-26T20:35:07.552280Z",
     "shell.execute_reply": "2022-04-26T20:35:07.552673Z"
    }
   },
   "outputs": [],
   "source": [
    "import pandas as pd"
   ]
  },
  {
   "cell_type": "code",
   "execution_count": 2,
   "id": "technological-noise",
   "metadata": {
    "execution": {
     "iopub.execute_input": "2022-04-26T20:35:07.557383Z",
     "iopub.status.busy": "2022-04-26T20:35:07.556808Z",
     "iopub.status.idle": "2022-04-26T20:35:07.587130Z",
     "shell.execute_reply": "2022-04-26T20:35:07.587575Z"
    }
   },
   "outputs": [
    {
     "data": {
      "text/html": [
       "<div>\n",
       "<style scoped>\n",
       "    .dataframe tbody tr th:only-of-type {\n",
       "        vertical-align: middle;\n",
       "    }\n",
       "\n",
       "    .dataframe tbody tr th {\n",
       "        vertical-align: top;\n",
       "    }\n",
       "\n",
       "    .dataframe thead th {\n",
       "        text-align: right;\n",
       "    }\n",
       "</style>\n",
       "<table border=\"1\" class=\"dataframe\">\n",
       "  <thead>\n",
       "    <tr style=\"text-align: right;\">\n",
       "      <th></th>\n",
       "      <th>Matter ID</th>\n",
       "      <th>Client Sort</th>\n",
       "      <th>Request for Hearing</th>\n",
       "      <th>Vacate</th>\n",
       "      <th>Hearing date</th>\n",
       "      <th>Finding</th>\n",
       "      <th>Lawyer (Y/N)</th>\n",
       "      <th>DCS Decision</th>\n",
       "      <th>Appeal?</th>\n",
       "      <th>Lawyer</th>\n",
       "      <th>Decision</th>\n",
       "    </tr>\n",
       "  </thead>\n",
       "  <tbody>\n",
       "    <tr>\n",
       "      <th>1</th>\n",
       "      <td>16C-817531-DCS</td>\n",
       "      <td>Department of Child Safety</td>\n",
       "      <td>1/6/2016</td>\n",
       "      <td>DCS</td>\n",
       "      <td>NaN</td>\n",
       "      <td>NaN</td>\n",
       "      <td>NaN</td>\n",
       "      <td>NaN</td>\n",
       "      <td>NaN</td>\n",
       "      <td>NaN</td>\n",
       "      <td>NaN</td>\n",
       "    </tr>\n",
       "    <tr>\n",
       "      <th>2</th>\n",
       "      <td>16C-831210-DCS</td>\n",
       "      <td>Department of Child Safety</td>\n",
       "      <td>1/5/2016</td>\n",
       "      <td>NaN</td>\n",
       "      <td>2/17/2016</td>\n",
       "      <td>UNSUBSTANTIATED</td>\n",
       "      <td>N</td>\n",
       "      <td>DCS rejects</td>\n",
       "      <td>UNK</td>\n",
       "      <td>N</td>\n",
       "      <td>DCS REJECTS</td>\n",
       "    </tr>\n",
       "    <tr>\n",
       "      <th>3</th>\n",
       "      <td>16C-859400-DCS</td>\n",
       "      <td>Department of Child Safety</td>\n",
       "      <td>1/5/2016</td>\n",
       "      <td>SETTLE</td>\n",
       "      <td>NaN</td>\n",
       "      <td>NaN</td>\n",
       "      <td>NaN</td>\n",
       "      <td>NaN</td>\n",
       "      <td>NaN</td>\n",
       "      <td>NaN</td>\n",
       "      <td>NaN</td>\n",
       "    </tr>\n",
       "    <tr>\n",
       "      <th>4</th>\n",
       "      <td>16C-814334-DCS</td>\n",
       "      <td>Department of Child Safety</td>\n",
       "      <td>1/6/2016</td>\n",
       "      <td>FTA</td>\n",
       "      <td>NaN</td>\n",
       "      <td>NaN</td>\n",
       "      <td>NaN</td>\n",
       "      <td>NaN</td>\n",
       "      <td>NaN</td>\n",
       "      <td>NaN</td>\n",
       "      <td>NaN</td>\n",
       "    </tr>\n",
       "    <tr>\n",
       "      <th>5</th>\n",
       "      <td>16C-815333-DCS</td>\n",
       "      <td>Department of Child Safety</td>\n",
       "      <td>1/6/2016</td>\n",
       "      <td>DCS</td>\n",
       "      <td>NaN</td>\n",
       "      <td>NaN</td>\n",
       "      <td>NaN</td>\n",
       "      <td>NaN</td>\n",
       "      <td>NaN</td>\n",
       "      <td>NaN</td>\n",
       "      <td>NaN</td>\n",
       "    </tr>\n",
       "  </tbody>\n",
       "</table>\n",
       "</div>"
      ],
      "text/plain": [
       "        Matter ID                 Client Sort Request for Hearing  Vacate  \\\n",
       "1  16C-817531-DCS  Department of Child Safety            1/6/2016     DCS   \n",
       "2  16C-831210-DCS  Department of Child Safety            1/5/2016     NaN   \n",
       "3  16C-859400-DCS  Department of Child Safety            1/5/2016  SETTLE   \n",
       "4  16C-814334-DCS  Department of Child Safety            1/6/2016     FTA   \n",
       "5  16C-815333-DCS  Department of Child Safety            1/6/2016     DCS   \n",
       "\n",
       "  Hearing date          Finding Lawyer (Y/N) DCS Decision Appeal? Lawyer  \\\n",
       "1          NaN              NaN          NaN          NaN     NaN    NaN   \n",
       "2    2/17/2016  UNSUBSTANTIATED            N  DCS rejects     UNK      N   \n",
       "3          NaN              NaN          NaN          NaN     NaN    NaN   \n",
       "4          NaN              NaN          NaN          NaN     NaN    NaN   \n",
       "5          NaN              NaN          NaN          NaN     NaN    NaN   \n",
       "\n",
       "      Decision  \n",
       "1          NaN  \n",
       "2  DCS REJECTS  \n",
       "3          NaN  \n",
       "4          NaN  \n",
       "5          NaN  "
      ]
     },
     "execution_count": 1,
     "metadata": {},
     "output_type": "execute_result"
    }
   ],
   "source": [
    "# Load appeals 2016 through 9/3/2021\n",
    "df = (\n",
    "    pd.read_csv(\n",
    "        \"../../data/states/arizona/DCS Listing(REVISED)(Final) (1a).csv\",\n",
    "        index_col = 0\n",
    "    )\n",
    "    .assign(\n",
    "        Vacate = lambda f: f[\"Vacate\"].str.upper().str.strip(),\n",
    "        Finding = lambda f: f[\"Finding\"].str.upper().str.strip(),\n",
    "        Lawyer = lambda f: f[\"Lawyer (Y/N)\"].str.upper().str.strip(),\n",
    "        Decision = lambda f: f[\"DCS Decision\"].str.upper().str.strip()\n",
    "    )\n",
    "    .dropna(\n",
    "        subset = [\n",
    "            # OAH says records without dates are not expunction hearings\n",
    "            \"Request for Hearing\", \n",
    "        ]\n",
    "    )\n",
    ")\n",
    "\n",
    "df.head()"
   ]
  },
  {
   "cell_type": "code",
   "execution_count": 3,
   "id": "alpha-wyoming",
   "metadata": {
    "execution": {
     "iopub.execute_input": "2022-04-26T20:35:07.591128Z",
     "iopub.status.busy": "2022-04-26T20:35:07.590464Z",
     "iopub.status.idle": "2022-04-26T20:35:07.592804Z",
     "shell.execute_reply": "2022-04-26T20:35:07.593186Z"
    }
   },
   "outputs": [
    {
     "data": {
      "text/plain": [
       "array(['DCS', nan, 'SETTLE', 'FTA', 'WITHDRAWN', 'HEARING',\n",
       "       'MATTER NO LONGER HAS VACATE ORDER', 'VACATE', 'WITHDRAW', 'VACO',\n",
       "       'CASE PENDING'], dtype=object)"
      ]
     },
     "execution_count": 1,
     "metadata": {},
     "output_type": "execute_result"
    }
   ],
   "source": [
    "df[\"Vacate\"].unique()"
   ]
  },
  {
   "cell_type": "code",
   "execution_count": 4,
   "id": "brazilian-intention",
   "metadata": {
    "execution": {
     "iopub.execute_input": "2022-04-26T20:35:07.597638Z",
     "iopub.status.busy": "2022-04-26T20:35:07.597089Z",
     "iopub.status.idle": "2022-04-26T20:35:07.615347Z",
     "shell.execute_reply": "2022-04-26T20:35:07.615823Z"
    }
   },
   "outputs": [
    {
     "data": {
      "text/html": [
       "<div>\n",
       "<style scoped>\n",
       "    .dataframe tbody tr th:only-of-type {\n",
       "        vertical-align: middle;\n",
       "    }\n",
       "\n",
       "    .dataframe tbody tr th {\n",
       "        vertical-align: top;\n",
       "    }\n",
       "\n",
       "    .dataframe thead th {\n",
       "        text-align: right;\n",
       "    }\n",
       "</style>\n",
       "<table border=\"1\" class=\"dataframe\">\n",
       "  <thead>\n",
       "    <tr style=\"text-align: right;\">\n",
       "      <th></th>\n",
       "      <th>Matter ID</th>\n",
       "      <th>Client Sort</th>\n",
       "      <th>Request for Hearing</th>\n",
       "      <th>Vacate</th>\n",
       "      <th>Hearing date</th>\n",
       "      <th>Finding</th>\n",
       "      <th>Lawyer (Y/N)</th>\n",
       "      <th>DCS Decision</th>\n",
       "      <th>Appeal?</th>\n",
       "      <th>Lawyer</th>\n",
       "      <th>Decision</th>\n",
       "    </tr>\n",
       "  </thead>\n",
       "  <tbody>\n",
       "    <tr>\n",
       "      <th>262</th>\n",
       "      <td>15C-803341-DCS</td>\n",
       "      <td>Department of Child Safety</td>\n",
       "      <td>1/7/2015</td>\n",
       "      <td>HEARING</td>\n",
       "      <td>2/13/2015</td>\n",
       "      <td>SUBSTANTIATED(ABUSE)</td>\n",
       "      <td>Y</td>\n",
       "      <td>AACCEPEDIT</td>\n",
       "      <td>UNK</td>\n",
       "      <td>Y</td>\n",
       "      <td>AACCEPEDIT</td>\n",
       "    </tr>\n",
       "    <tr>\n",
       "      <th>263</th>\n",
       "      <td>15C-733294B-DCS</td>\n",
       "      <td>Department of Child Safety</td>\n",
       "      <td>1/7/2015</td>\n",
       "      <td>HEARING</td>\n",
       "      <td>5/7/2015</td>\n",
       "      <td>SUBSTANTIATED(NEGLECT)</td>\n",
       "      <td>N</td>\n",
       "      <td>AACCEPEDIT</td>\n",
       "      <td>UNK</td>\n",
       "      <td>N</td>\n",
       "      <td>AACCEPEDIT</td>\n",
       "    </tr>\n",
       "    <tr>\n",
       "      <th>264</th>\n",
       "      <td>15C-796590-DCS</td>\n",
       "      <td>Department of Child Safety</td>\n",
       "      <td>1/7/2015</td>\n",
       "      <td>WITHDRAWN</td>\n",
       "      <td>NaN</td>\n",
       "      <td>NaN</td>\n",
       "      <td>NaN</td>\n",
       "      <td>NaN</td>\n",
       "      <td>NaN</td>\n",
       "      <td>NaN</td>\n",
       "      <td>NaN</td>\n",
       "    </tr>\n",
       "  </tbody>\n",
       "</table>\n",
       "</div>"
      ],
      "text/plain": [
       "           Matter ID                 Client Sort Request for Hearing  \\\n",
       "262   15C-803341-DCS  Department of Child Safety            1/7/2015   \n",
       "263  15C-733294B-DCS  Department of Child Safety            1/7/2015   \n",
       "264   15C-796590-DCS  Department of Child Safety            1/7/2015   \n",
       "\n",
       "        Vacate Hearing date                 Finding Lawyer (Y/N) DCS Decision  \\\n",
       "262    HEARING    2/13/2015    SUBSTANTIATED(ABUSE)            Y   AACCEPEDIT   \n",
       "263    HEARING     5/7/2015  SUBSTANTIATED(NEGLECT)            N   AACCEPEDIT   \n",
       "264  WITHDRAWN          NaN                     NaN          NaN          NaN   \n",
       "\n",
       "    Appeal? Lawyer    Decision  \n",
       "262     UNK      Y  AACCEPEDIT  \n",
       "263     UNK      N  AACCEPEDIT  \n",
       "264     NaN    NaN         NaN  "
      ]
     },
     "execution_count": 1,
     "metadata": {},
     "output_type": "execute_result"
    }
   ],
   "source": [
    "# 2015 is same data in a different set\n",
    "df2 = (\n",
    "    pd.read_csv(\n",
    "        \"../../data/states/arizona/DCS Listing 2015 (Final).csv\",\n",
    "        index_col = None,\n",
    "    )\n",
    "    .drop( columns = [\"Unnamed: 2\", \"Unnamed: 3\"])\n",
    ")\n",
    "\n",
    "df2.columns = df.columns[:-2]\n",
    "\n",
    "df2 = (\n",
    "    df2\n",
    "    .assign(\n",
    "        Vacate = lambda f: f[\"Vacate\"].str.upper().str.strip(),\n",
    "        Finding = lambda f: f[\"Finding\"].str.upper().str.strip(),\n",
    "        Lawyer = lambda f: f[\"Lawyer (Y/N)\"].str.upper().str.strip(),\n",
    "        Decision = lambda f: f[\"DCS Decision\"].str.upper().str.strip()\n",
    "    )\n",
    "    .dropna(\n",
    "        subset = [\n",
    "            \"Request for Hearing\", # OAH says these are not expunction hearings\n",
    "        ]\n",
    "    )\n",
    ")\n",
    "\n",
    "df2.tail(3)"
   ]
  },
  {
   "cell_type": "code",
   "execution_count": 5,
   "id": "peripheral-momentum",
   "metadata": {
    "execution": {
     "iopub.execute_input": "2022-04-26T20:35:07.619523Z",
     "iopub.status.busy": "2022-04-26T20:35:07.619018Z",
     "iopub.status.idle": "2022-04-26T20:35:07.629835Z",
     "shell.execute_reply": "2022-04-26T20:35:07.629231Z"
    }
   },
   "outputs": [
    {
     "data": {
      "text/html": [
       "<div>\n",
       "<style scoped>\n",
       "    .dataframe tbody tr th:only-of-type {\n",
       "        vertical-align: middle;\n",
       "    }\n",
       "\n",
       "    .dataframe tbody tr th {\n",
       "        vertical-align: top;\n",
       "    }\n",
       "\n",
       "    .dataframe thead th {\n",
       "        text-align: right;\n",
       "    }\n",
       "</style>\n",
       "<table border=\"1\" class=\"dataframe\">\n",
       "  <thead>\n",
       "    <tr style=\"text-align: right;\">\n",
       "      <th></th>\n",
       "      <th>Matter ID</th>\n",
       "      <th>Client Sort</th>\n",
       "      <th>Request for Hearing</th>\n",
       "      <th>Vacate</th>\n",
       "      <th>Hearing date</th>\n",
       "      <th>Finding</th>\n",
       "      <th>Lawyer (Y/N)</th>\n",
       "      <th>DCS Decision</th>\n",
       "      <th>Appeal?</th>\n",
       "      <th>Lawyer</th>\n",
       "      <th>Decision</th>\n",
       "      <th>year</th>\n",
       "    </tr>\n",
       "  </thead>\n",
       "  <tbody>\n",
       "    <tr>\n",
       "      <th>1</th>\n",
       "      <td>16C-817531-DCS</td>\n",
       "      <td>Department of Child Safety</td>\n",
       "      <td>1/6/2016</td>\n",
       "      <td>DCS</td>\n",
       "      <td>NaN</td>\n",
       "      <td>NaN</td>\n",
       "      <td>NaN</td>\n",
       "      <td>NaN</td>\n",
       "      <td>NaN</td>\n",
       "      <td>NaN</td>\n",
       "      <td>NaN</td>\n",
       "      <td>2016</td>\n",
       "    </tr>\n",
       "    <tr>\n",
       "      <th>2</th>\n",
       "      <td>16C-831210-DCS</td>\n",
       "      <td>Department of Child Safety</td>\n",
       "      <td>1/5/2016</td>\n",
       "      <td>NaN</td>\n",
       "      <td>2/17/2016</td>\n",
       "      <td>UNSUBSTANTIATED</td>\n",
       "      <td>N</td>\n",
       "      <td>DCS rejects</td>\n",
       "      <td>UNK</td>\n",
       "      <td>N</td>\n",
       "      <td>DCS REJECTS</td>\n",
       "      <td>2016</td>\n",
       "    </tr>\n",
       "    <tr>\n",
       "      <th>3</th>\n",
       "      <td>16C-859400-DCS</td>\n",
       "      <td>Department of Child Safety</td>\n",
       "      <td>1/5/2016</td>\n",
       "      <td>SETTLE</td>\n",
       "      <td>NaN</td>\n",
       "      <td>NaN</td>\n",
       "      <td>NaN</td>\n",
       "      <td>NaN</td>\n",
       "      <td>NaN</td>\n",
       "      <td>NaN</td>\n",
       "      <td>NaN</td>\n",
       "      <td>2016</td>\n",
       "    </tr>\n",
       "  </tbody>\n",
       "</table>\n",
       "</div>"
      ],
      "text/plain": [
       "        Matter ID                 Client Sort Request for Hearing  Vacate  \\\n",
       "1  16C-817531-DCS  Department of Child Safety            1/6/2016     DCS   \n",
       "2  16C-831210-DCS  Department of Child Safety            1/5/2016     NaN   \n",
       "3  16C-859400-DCS  Department of Child Safety            1/5/2016  SETTLE   \n",
       "\n",
       "  Hearing date          Finding Lawyer (Y/N) DCS Decision Appeal? Lawyer  \\\n",
       "1          NaN              NaN          NaN          NaN     NaN    NaN   \n",
       "2    2/17/2016  UNSUBSTANTIATED            N  DCS rejects     UNK      N   \n",
       "3          NaN              NaN          NaN          NaN     NaN    NaN   \n",
       "\n",
       "      Decision  year  \n",
       "1          NaN  2016  \n",
       "2  DCS REJECTS  2016  \n",
       "3          NaN  2016  "
      ]
     },
     "execution_count": 1,
     "metadata": {},
     "output_type": "execute_result"
    }
   ],
   "source": [
    "# combine years, add year column\n",
    "df_all = (\n",
    "    pd.concat([df, df2])\n",
    "    .assign(\n",
    "        year = lambda f: f[\"Request for Hearing\"].str.slice(-4),\n",
    "    ))\n",
    "\n",
    "df_all.head(3)"
   ]
  },
  {
   "cell_type": "markdown",
   "id": "nominated-elder",
   "metadata": {},
   "source": [
    "## Subset"
   ]
  },
  {
   "cell_type": "code",
   "execution_count": 6,
   "id": "available-metabolism",
   "metadata": {
    "execution": {
     "iopub.execute_input": "2022-04-26T20:35:07.633172Z",
     "iopub.status.busy": "2022-04-26T20:35:07.632533Z",
     "iopub.status.idle": "2022-04-26T20:35:07.635291Z",
     "shell.execute_reply": "2022-04-26T20:35:07.635646Z"
    }
   },
   "outputs": [
    {
     "data": {
      "text/plain": [
       "1599"
      ]
     },
     "execution_count": 1,
     "metadata": {},
     "output_type": "execute_result"
    }
   ],
   "source": [
    "# convenience function for counting cases\n",
    "def cases(df):\n",
    "    return df[\"Matter ID\"].nunique()\n",
    "\n",
    "df_all.pipe(cases)"
   ]
  },
  {
   "cell_type": "code",
   "execution_count": 7,
   "id": "explicit-christianity",
   "metadata": {
    "execution": {
     "iopub.execute_input": "2022-04-26T20:35:07.640319Z",
     "iopub.status.busy": "2022-04-26T20:35:07.639798Z",
     "iopub.status.idle": "2022-04-26T20:35:07.643449Z",
     "shell.execute_reply": "2022-04-26T20:35:07.643802Z"
    }
   },
   "outputs": [
    {
     "data": {
      "text/plain": [
       "1398"
      ]
     },
     "execution_count": 1,
     "metadata": {},
     "output_type": "execute_result"
    }
   ],
   "source": [
    "# remove cases that never went through\n",
    "subsetting = [\n",
    "    \"WITHDRAWN\", \n",
    "    \"WITHDRAW\",\n",
    "    \"CASE PENDING\"\n",
    "]\n",
    "\n",
    "completed = (\n",
    "    df_all\n",
    "    .loc[\n",
    "        lambda x: \n",
    "        ~x[\"Vacate\"].isin(subsetting) &\n",
    "        ~x[\"Hearing date\"].str.contains(\"Pending\", case = False, na = False)\n",
    "    ]\n",
    ")\n",
    "\n",
    "completed.pipe(cases)"
   ]
  },
  {
   "cell_type": "markdown",
   "id": "vietnamese-medium",
   "metadata": {},
   "source": [
    "## Hearings"
   ]
  },
  {
   "cell_type": "code",
   "execution_count": 8,
   "id": "electoral-increase",
   "metadata": {
    "execution": {
     "iopub.execute_input": "2022-04-26T20:35:07.647495Z",
     "iopub.status.busy": "2022-04-26T20:35:07.646883Z",
     "iopub.status.idle": "2022-04-26T20:35:07.649998Z",
     "shell.execute_reply": "2022-04-26T20:35:07.650347Z"
    }
   },
   "outputs": [
    {
     "data": {
      "text/plain": [
       "411"
      ]
     },
     "execution_count": 1,
     "metadata": {},
     "output_type": "execute_result"
    }
   ],
   "source": [
    "# All cases that actually went to hearings\n",
    "def filter_hearing(df):\n",
    "    return df.loc[ lambda x: ~x[\"Finding\"].isna() ]\n",
    "\n",
    "hearing = df_all.pipe(filter_hearing)\n",
    "\n",
    "hearing.pipe(cases)"
   ]
  },
  {
   "cell_type": "code",
   "execution_count": 9,
   "id": "featured-lease",
   "metadata": {
    "execution": {
     "iopub.execute_input": "2022-04-26T20:35:07.653621Z",
     "iopub.status.busy": "2022-04-26T20:35:07.652916Z",
     "iopub.status.idle": "2022-04-26T20:35:07.655894Z",
     "shell.execute_reply": "2022-04-26T20:35:07.656273Z"
    }
   },
   "outputs": [
    {
     "data": {
      "text/plain": [
       "0.2570356472795497"
      ]
     },
     "execution_count": 1,
     "metadata": {},
     "output_type": "execute_result"
    }
   ],
   "source": [
    "# percent going to hearing\n",
    "hearing.pipe(cases)/df_all.pipe(cases)"
   ]
  },
  {
   "cell_type": "code",
   "execution_count": 10,
   "id": "undefined-charleston",
   "metadata": {
    "execution": {
     "iopub.execute_input": "2022-04-26T20:35:07.659826Z",
     "iopub.status.busy": "2022-04-26T20:35:07.659292Z",
     "iopub.status.idle": "2022-04-26T20:35:07.674874Z",
     "shell.execute_reply": "2022-04-26T20:35:07.675288Z"
    }
   },
   "outputs": [
    {
     "data": {
      "text/html": [
       "<div>\n",
       "<style scoped>\n",
       "    .dataframe tbody tr th:only-of-type {\n",
       "        vertical-align: middle;\n",
       "    }\n",
       "\n",
       "    .dataframe tbody tr th {\n",
       "        vertical-align: top;\n",
       "    }\n",
       "\n",
       "    .dataframe thead th {\n",
       "        text-align: right;\n",
       "    }\n",
       "</style>\n",
       "<table border=\"1\" class=\"dataframe\">\n",
       "  <thead>\n",
       "    <tr style=\"text-align: right;\">\n",
       "      <th></th>\n",
       "      <th>requests</th>\n",
       "      <th>hearing</th>\n",
       "      <th>percent_hearing</th>\n",
       "    </tr>\n",
       "    <tr>\n",
       "      <th>year</th>\n",
       "      <th></th>\n",
       "      <th></th>\n",
       "      <th></th>\n",
       "    </tr>\n",
       "  </thead>\n",
       "  <tbody>\n",
       "    <tr>\n",
       "      <th>2015</th>\n",
       "      <td>245</td>\n",
       "      <td>73</td>\n",
       "      <td>0.297959</td>\n",
       "    </tr>\n",
       "    <tr>\n",
       "      <th>2016</th>\n",
       "      <td>238</td>\n",
       "      <td>36</td>\n",
       "      <td>0.151261</td>\n",
       "    </tr>\n",
       "    <tr>\n",
       "      <th>2017</th>\n",
       "      <td>158</td>\n",
       "      <td>39</td>\n",
       "      <td>0.246835</td>\n",
       "    </tr>\n",
       "    <tr>\n",
       "      <th>2018</th>\n",
       "      <td>345</td>\n",
       "      <td>90</td>\n",
       "      <td>0.260870</td>\n",
       "    </tr>\n",
       "    <tr>\n",
       "      <th>2019</th>\n",
       "      <td>289</td>\n",
       "      <td>61</td>\n",
       "      <td>0.211073</td>\n",
       "    </tr>\n",
       "    <tr>\n",
       "      <th>2020</th>\n",
       "      <td>192</td>\n",
       "      <td>81</td>\n",
       "      <td>0.421875</td>\n",
       "    </tr>\n",
       "    <tr>\n",
       "      <th>2021</th>\n",
       "      <td>132</td>\n",
       "      <td>31</td>\n",
       "      <td>0.234848</td>\n",
       "    </tr>\n",
       "  </tbody>\n",
       "</table>\n",
       "</div>"
      ],
      "text/plain": [
       "      requests  hearing  percent_hearing\n",
       "year                                    \n",
       "2015       245       73         0.297959\n",
       "2016       238       36         0.151261\n",
       "2017       158       39         0.246835\n",
       "2018       345       90         0.260870\n",
       "2019       289       61         0.211073\n",
       "2020       192       81         0.421875\n",
       "2021       132       31         0.234848"
      ]
     },
     "execution_count": 1,
     "metadata": {},
     "output_type": "execute_result"
    }
   ],
   "source": [
    "# yearly hearing or not\n",
    "yearly_hearing = (    \n",
    "    df_all\n",
    "    .groupby(\"year\")\n",
    "    .apply( lambda grp: pd.Series({\n",
    "        # total requests\n",
    "        \"requests\": grp.pipe(cases),\n",
    "        \"hearing\": grp.pipe(filter_hearing).pipe(cases)\n",
    "    }))\n",
    "    .assign(\n",
    "        percent_hearing = lambda f: f[\"hearing\"]/f[\"requests\"]\n",
    "    )\n",
    ")\n",
    "\n",
    "yearly_hearing"
   ]
  },
  {
   "cell_type": "code",
   "execution_count": 11,
   "id": "residential-mobile",
   "metadata": {
    "execution": {
     "iopub.execute_input": "2022-04-26T20:35:07.681276Z",
     "iopub.status.busy": "2022-04-26T20:35:07.680375Z",
     "iopub.status.idle": "2022-04-26T20:35:07.683264Z",
     "shell.execute_reply": "2022-04-26T20:35:07.683657Z"
    }
   },
   "outputs": [
    {
     "data": {
      "text/html": [
       "<div>\n",
       "<style scoped>\n",
       "    .dataframe tbody tr th:only-of-type {\n",
       "        vertical-align: middle;\n",
       "    }\n",
       "\n",
       "    .dataframe tbody tr th {\n",
       "        vertical-align: top;\n",
       "    }\n",
       "\n",
       "    .dataframe thead th {\n",
       "        text-align: right;\n",
       "    }\n",
       "</style>\n",
       "<table border=\"1\" class=\"dataframe\">\n",
       "  <thead>\n",
       "    <tr style=\"text-align: right;\">\n",
       "      <th></th>\n",
       "      <th></th>\n",
       "    </tr>\n",
       "  </thead>\n",
       "  <tbody>\n",
       "    <tr>\n",
       "      <th>requests</th>\n",
       "      <td>228.428571</td>\n",
       "    </tr>\n",
       "    <tr>\n",
       "      <th>hearing</th>\n",
       "      <td>58.714286</td>\n",
       "    </tr>\n",
       "    <tr>\n",
       "      <th>percent_hearing</th>\n",
       "      <td>0.260674</td>\n",
       "    </tr>\n",
       "  </tbody>\n",
       "</table>\n",
       "</div>"
      ],
      "text/plain": [
       "                           \n",
       "requests         228.428571\n",
       "hearing           58.714286\n",
       "percent_hearing    0.260674"
      ]
     },
     "execution_count": 1,
     "metadata": {},
     "output_type": "execute_result"
    }
   ],
   "source": [
    "yearly_hearing.mean().to_frame(\"\")"
   ]
  },
  {
   "cell_type": "markdown",
   "id": "brave-freeware",
   "metadata": {},
   "source": [
    "## Hearing results"
   ]
  },
  {
   "cell_type": "code",
   "execution_count": 12,
   "id": "exotic-albuquerque",
   "metadata": {
    "execution": {
     "iopub.execute_input": "2022-04-26T20:35:07.688334Z",
     "iopub.status.busy": "2022-04-26T20:35:07.687547Z",
     "iopub.status.idle": "2022-04-26T20:35:07.690544Z",
     "shell.execute_reply": "2022-04-26T20:35:07.690964Z"
    },
    "scrolled": true
   },
   "outputs": [
    {
     "data": {
      "text/plain": [
       "['SUB(ABUSE)',\n",
       " 'SUB(NEGLECT)',\n",
       " 'SUBSTANTIATE (NEGLECT)',\n",
       " 'SUBSTANTIATE(ABUSE AND NEGLECT)',\n",
       " 'SUBSTANTIATE(ABUSE)',\n",
       " 'SUBSTANTIATE(ABUSE); UNSUBSTANTIATE(NEGLECT)',\n",
       " 'SUBSTANTIATE(MODIFED)(ABUSE)',\n",
       " 'SUBSTANTIATE(MODIFED)(NEGLECT)',\n",
       " 'SUBSTANTIATE(MODIFICATION)(NEGLECT)',\n",
       " 'SUBSTANTIATE(MODIFIED)(ABUSE)',\n",
       " 'SUBSTANTIATE(MODIFIED)(NEGLECT)',\n",
       " 'SUBSTANTIATE(NEGELCT)',\n",
       " 'SUBSTANTIATE(NEGLECT & ABUSE)',\n",
       " 'SUBSTANTIATE(NEGLECT(',\n",
       " 'SUBSTANTIATE(NEGLECT)',\n",
       " 'SUBSTANTIATE9NEGELCT)',\n",
       " 'SUBSTANTIATE9NEGLECT)',\n",
       " 'SUBSTANTIATED',\n",
       " 'SUBSTANTIATED (ABUSE)',\n",
       " 'SUBSTANTIATED (NEGLECT & ABUSE)',\n",
       " 'SUBSTANTIATED (NEGLECT)',\n",
       " 'SUBSTANTIATED(ABUSE',\n",
       " 'SUBSTANTIATED(ABUSE)',\n",
       " 'SUBSTANTIATED(NEGLECT)',\n",
       " 'SUSTANTIATE(NEGLECT)',\n",
       " 'UNSUB(ABUSE)',\n",
       " 'UNSUB(NEGELCT)',\n",
       " 'UNSUB(NEGLECT)',\n",
       " 'UNSUBSTANTIATE (NEGLECT)',\n",
       " 'UNSUBSTANTIATE(ABUSE)',\n",
       " 'UNSUBSTANTIATE(NEGLECT)',\n",
       " 'UNSUBSTANTIATED',\n",
       " 'UNSUBSTANTIATED  (NEGLECT)',\n",
       " 'UNSUBSTANTIATED (ABUSE)',\n",
       " 'UNSUBSTANTIATED (NEGLECT)',\n",
       " 'UNSUBSTANTIATED(ABUSE)',\n",
       " 'UNSUBSTANTIATED(NEGLECT)']"
      ]
     },
     "execution_count": 1,
     "metadata": {},
     "output_type": "execute_result"
    }
   ],
   "source": [
    "# hearing outcomes\n",
    "sorted(list(hearing[\"Finding\"].unique()))"
   ]
  },
  {
   "cell_type": "code",
   "execution_count": 13,
   "id": "related-meeting",
   "metadata": {
    "execution": {
     "iopub.execute_input": "2022-04-26T20:35:07.698242Z",
     "iopub.status.busy": "2022-04-26T20:35:07.697703Z",
     "iopub.status.idle": "2022-04-26T20:35:07.699878Z",
     "shell.execute_reply": "2022-04-26T20:35:07.700235Z"
    }
   },
   "outputs": [
    {
     "data": {
      "text/plain": [
       "UNSUBSTANTIATED(NEGLECT)      26\n",
       "UNSUBSTANTIATED(ABUSE)        24\n",
       "UNSUBSTANTIATE(NEGLECT)       17\n",
       "UNSUBSTANTIATE(ABUSE)         14\n",
       "UNSUBSTANTIATED (ABUSE)        8\n",
       "UNSUBSTANTIATED (NEGLECT)      7\n",
       "UNSUB(NEGLECT)                 6\n",
       "UNSUB(ABUSE)                   4\n",
       "UNSUBSTANTIATED                1\n",
       "UNSUBSTANTIATED  (NEGLECT)     1\n",
       "UNSUB(NEGELCT)                 1\n",
       "UNSUBSTANTIATE (NEGLECT)       1\n",
       "Name: Finding, dtype: int64"
      ]
     },
     "execution_count": 1,
     "metadata": {},
     "output_type": "execute_result"
    }
   ],
   "source": [
    "# filter to find appellant success in hearing\n",
    "def filter_hearing_success(df):\n",
    "    return (\n",
    "        df\n",
    "        .pipe(filter_hearing)\n",
    "        .loc[ \n",
    "            lambda x: \n",
    "            x[\"Finding\"].str.contains(\"UNSUB\", na = False)  &\n",
    "            # filter out the only one that has a sub/unsub combo\n",
    "            ~x[\"Finding\"].str.contains(\"^SUBSTANTIATE\\(ABUSE\\)\")\n",
    "        ]\n",
    "    )\n",
    "\n",
    "# success in hearing\n",
    "shearing = hearing.pipe(filter_hearing_success)\n",
    "\n",
    "shearing[\"Finding\"].value_counts()"
   ]
  },
  {
   "cell_type": "code",
   "execution_count": 14,
   "id": "proved-nickname",
   "metadata": {
    "execution": {
     "iopub.execute_input": "2022-04-26T20:35:07.703144Z",
     "iopub.status.busy": "2022-04-26T20:35:07.702624Z",
     "iopub.status.idle": "2022-04-26T20:35:07.704142Z",
     "shell.execute_reply": "2022-04-26T20:35:07.704516Z"
    }
   },
   "outputs": [],
   "source": [
    "# filter only to appellants with lawyers\n",
    "def filter_lawyer(df):\n",
    "    return df.loc[ lambda x: x[\"Lawyer\"] == \"Y\" ]"
   ]
  },
  {
   "cell_type": "code",
   "execution_count": 15,
   "id": "developmental-toolbox",
   "metadata": {
    "execution": {
     "iopub.execute_input": "2022-04-26T20:35:07.708272Z",
     "iopub.status.busy": "2022-04-26T20:35:07.707755Z",
     "iopub.status.idle": "2022-04-26T20:35:07.717258Z",
     "shell.execute_reply": "2022-04-26T20:35:07.717607Z"
    }
   },
   "outputs": [
    {
     "data": {
      "text/html": [
       "<div>\n",
       "<style scoped>\n",
       "    .dataframe tbody tr th:only-of-type {\n",
       "        vertical-align: middle;\n",
       "    }\n",
       "\n",
       "    .dataframe tbody tr th {\n",
       "        vertical-align: top;\n",
       "    }\n",
       "\n",
       "    .dataframe thead th {\n",
       "        text-align: right;\n",
       "    }\n",
       "</style>\n",
       "<table border=\"1\" class=\"dataframe\">\n",
       "  <thead>\n",
       "    <tr style=\"text-align: right;\">\n",
       "      <th></th>\n",
       "      <th>Cases</th>\n",
       "      <th>Percent</th>\n",
       "    </tr>\n",
       "  </thead>\n",
       "  <tbody>\n",
       "    <tr>\n",
       "      <th>All hearings</th>\n",
       "      <td>411</td>\n",
       "      <td>1.000000</td>\n",
       "    </tr>\n",
       "    <tr>\n",
       "      <th>Won in hearing</th>\n",
       "      <td>110</td>\n",
       "      <td>0.267640</td>\n",
       "    </tr>\n",
       "    <tr>\n",
       "      <th>Had lawyers</th>\n",
       "      <td>79</td>\n",
       "      <td>0.192214</td>\n",
       "    </tr>\n",
       "  </tbody>\n",
       "</table>\n",
       "</div>"
      ],
      "text/plain": [
       "                Cases   Percent\n",
       "All hearings      411  1.000000\n",
       "Won in hearing    110  0.267640\n",
       "Had lawyers        79  0.192214"
      ]
     },
     "execution_count": 1,
     "metadata": {},
     "output_type": "execute_result"
    }
   ],
   "source": [
    "# stats for hearings\n",
    "(\n",
    "    pd\n",
    "    .DataFrame(\n",
    "        {\n",
    "            \"All hearings\": completed.pipe(filter_hearing).pipe(cases),\n",
    "            \"Won in hearing\": completed.pipe(filter_hearing_success).pipe(cases),\n",
    "            \"Had lawyers\": completed.pipe(filter_hearing).pipe(filter_lawyer).pipe(cases),\n",
    "        }, index = [\"Cases\"])\n",
    "    .T\n",
    "    .assign(\n",
    "        Percent = lambda f: f[\"Cases\"]/hearing.pipe(cases)\n",
    "    )\n",
    ")"
   ]
  },
  {
   "cell_type": "code",
   "execution_count": 16,
   "id": "mexican-district",
   "metadata": {
    "execution": {
     "iopub.execute_input": "2022-04-26T20:35:07.728103Z",
     "iopub.status.busy": "2022-04-26T20:35:07.721085Z",
     "iopub.status.idle": "2022-04-26T20:35:07.730361Z",
     "shell.execute_reply": "2022-04-26T20:35:07.730730Z"
    }
   },
   "outputs": [
    {
     "data": {
      "text/html": [
       "<div>\n",
       "<style scoped>\n",
       "    .dataframe tbody tr th:only-of-type {\n",
       "        vertical-align: middle;\n",
       "    }\n",
       "\n",
       "    .dataframe tbody tr th {\n",
       "        vertical-align: top;\n",
       "    }\n",
       "\n",
       "    .dataframe thead th {\n",
       "        text-align: right;\n",
       "    }\n",
       "</style>\n",
       "<table border=\"1\" class=\"dataframe\">\n",
       "  <thead>\n",
       "    <tr style=\"text-align: right;\">\n",
       "      <th></th>\n",
       "      <th>Had lawyer</th>\n",
       "      <th>Lawyer win</th>\n",
       "      <th>percent_lawyer_win</th>\n",
       "    </tr>\n",
       "  </thead>\n",
       "  <tbody>\n",
       "    <tr>\n",
       "      <th>Cases</th>\n",
       "      <td>79</td>\n",
       "      <td>35</td>\n",
       "      <td>0.443038</td>\n",
       "    </tr>\n",
       "  </tbody>\n",
       "</table>\n",
       "</div>"
      ],
      "text/plain": [
       "       Had lawyer  Lawyer win  percent_lawyer_win\n",
       "Cases          79          35            0.443038"
      ]
     },
     "execution_count": 1,
     "metadata": {},
     "output_type": "execute_result"
    }
   ],
   "source": [
    "# overall stats for lawyers\n",
    "(\n",
    "    pd\n",
    "    .DataFrame(\n",
    "        {\n",
    "            \"Had lawyer\": (\n",
    "                completed\n",
    "                .pipe(filter_hearing)\n",
    "                .pipe(filter_lawyer)\n",
    "                .pipe(cases)\n",
    "            ),\n",
    "            \"Lawyer win\": (\n",
    "                completed\n",
    "                .pipe(filter_hearing_success)\n",
    "                .pipe(filter_lawyer)\n",
    "                .pipe(cases)),\n",
    "        }, index = [\"Cases\"]\n",
    "\n",
    "    )\n",
    "    .assign(\n",
    "        percent_lawyer_win = lambda f: f[\"Lawyer win\"]/f[\"Had lawyer\"]\n",
    "    )\n",
    ")"
   ]
  },
  {
   "cell_type": "code",
   "execution_count": 17,
   "id": "comfortable-energy",
   "metadata": {
    "execution": {
     "iopub.execute_input": "2022-04-26T20:35:07.735481Z",
     "iopub.status.busy": "2022-04-26T20:35:07.734812Z",
     "iopub.status.idle": "2022-04-26T20:35:07.761868Z",
     "shell.execute_reply": "2022-04-26T20:35:07.762369Z"
    }
   },
   "outputs": [
    {
     "data": {
      "text/html": [
       "<div>\n",
       "<style scoped>\n",
       "    .dataframe tbody tr th:only-of-type {\n",
       "        vertical-align: middle;\n",
       "    }\n",
       "\n",
       "    .dataframe tbody tr th {\n",
       "        vertical-align: top;\n",
       "    }\n",
       "\n",
       "    .dataframe thead th {\n",
       "        text-align: right;\n",
       "    }\n",
       "</style>\n",
       "<table border=\"1\" class=\"dataframe\">\n",
       "  <thead>\n",
       "    <tr style=\"text-align: right;\">\n",
       "      <th></th>\n",
       "      <th>All hearings</th>\n",
       "      <th>Won in hearings</th>\n",
       "      <th>Had Lawyers</th>\n",
       "      <th>percent_won</th>\n",
       "      <th>percent_lawyers</th>\n",
       "    </tr>\n",
       "    <tr>\n",
       "      <th>year</th>\n",
       "      <th></th>\n",
       "      <th></th>\n",
       "      <th></th>\n",
       "      <th></th>\n",
       "      <th></th>\n",
       "    </tr>\n",
       "  </thead>\n",
       "  <tbody>\n",
       "    <tr>\n",
       "      <th>2015</th>\n",
       "      <td>73</td>\n",
       "      <td>21</td>\n",
       "      <td>11</td>\n",
       "      <td>0.287671</td>\n",
       "      <td>0.150685</td>\n",
       "    </tr>\n",
       "    <tr>\n",
       "      <th>2016</th>\n",
       "      <td>36</td>\n",
       "      <td>9</td>\n",
       "      <td>2</td>\n",
       "      <td>0.250000</td>\n",
       "      <td>0.055556</td>\n",
       "    </tr>\n",
       "    <tr>\n",
       "      <th>2017</th>\n",
       "      <td>39</td>\n",
       "      <td>11</td>\n",
       "      <td>14</td>\n",
       "      <td>0.282051</td>\n",
       "      <td>0.358974</td>\n",
       "    </tr>\n",
       "    <tr>\n",
       "      <th>2018</th>\n",
       "      <td>90</td>\n",
       "      <td>32</td>\n",
       "      <td>20</td>\n",
       "      <td>0.355556</td>\n",
       "      <td>0.222222</td>\n",
       "    </tr>\n",
       "    <tr>\n",
       "      <th>2019</th>\n",
       "      <td>61</td>\n",
       "      <td>20</td>\n",
       "      <td>18</td>\n",
       "      <td>0.327869</td>\n",
       "      <td>0.295082</td>\n",
       "    </tr>\n",
       "    <tr>\n",
       "      <th>2020</th>\n",
       "      <td>81</td>\n",
       "      <td>12</td>\n",
       "      <td>8</td>\n",
       "      <td>0.148148</td>\n",
       "      <td>0.098765</td>\n",
       "    </tr>\n",
       "    <tr>\n",
       "      <th>2021</th>\n",
       "      <td>31</td>\n",
       "      <td>5</td>\n",
       "      <td>6</td>\n",
       "      <td>0.161290</td>\n",
       "      <td>0.193548</td>\n",
       "    </tr>\n",
       "  </tbody>\n",
       "</table>\n",
       "</div>"
      ],
      "text/plain": [
       "      All hearings  Won in hearings  Had Lawyers  percent_won  percent_lawyers\n",
       "year                                                                          \n",
       "2015            73               21           11     0.287671         0.150685\n",
       "2016            36                9            2     0.250000         0.055556\n",
       "2017            39               11           14     0.282051         0.358974\n",
       "2018            90               32           20     0.355556         0.222222\n",
       "2019            61               20           18     0.327869         0.295082\n",
       "2020            81               12            8     0.148148         0.098765\n",
       "2021            31                5            6     0.161290         0.193548"
      ]
     },
     "execution_count": 1,
     "metadata": {},
     "output_type": "execute_result"
    }
   ],
   "source": [
    "# yearly hearing outcomes\n",
    "# reshape main frame for merging\n",
    "yearly_hearing_outcomes = (\n",
    "    completed\n",
    "    .pipe(filter_hearing)\n",
    "    .groupby(\"year\")\n",
    "    .apply( \n",
    "        lambda grp: pd.Series(\n",
    "            {\n",
    "                \"All hearings\": grp.pipe(cases),\n",
    "                \"Won in hearings\": grp.pipe(filter_hearing_success).pipe(cases),\n",
    "                \"Had Lawyers\": grp.pipe(filter_lawyer).pipe(cases)\n",
    "            }\n",
    "        )\n",
    "    )\n",
    "    .assign(\n",
    "        percent_won = lambda f: f[\"Won in hearings\"]/f[\"All hearings\"],\n",
    "        percent_lawyers = lambda f: f[\"Had Lawyers\"]/f[\"All hearings\"]\n",
    "    )\n",
    ")\n",
    "\n",
    "yearly_hearing_outcomes"
   ]
  },
  {
   "cell_type": "code",
   "execution_count": 18,
   "id": "korean-simple",
   "metadata": {
    "execution": {
     "iopub.execute_input": "2022-04-26T20:35:07.768864Z",
     "iopub.status.busy": "2022-04-26T20:35:07.768172Z",
     "iopub.status.idle": "2022-04-26T20:35:07.770742Z",
     "shell.execute_reply": "2022-04-26T20:35:07.771285Z"
    }
   },
   "outputs": [
    {
     "data": {
      "text/html": [
       "<div>\n",
       "<style scoped>\n",
       "    .dataframe tbody tr th:only-of-type {\n",
       "        vertical-align: middle;\n",
       "    }\n",
       "\n",
       "    .dataframe tbody tr th {\n",
       "        vertical-align: top;\n",
       "    }\n",
       "\n",
       "    .dataframe thead th {\n",
       "        text-align: right;\n",
       "    }\n",
       "</style>\n",
       "<table border=\"1\" class=\"dataframe\">\n",
       "  <thead>\n",
       "    <tr style=\"text-align: right;\">\n",
       "      <th></th>\n",
       "      <th></th>\n",
       "    </tr>\n",
       "  </thead>\n",
       "  <tbody>\n",
       "    <tr>\n",
       "      <th>All hearings</th>\n",
       "      <td>58.714286</td>\n",
       "    </tr>\n",
       "    <tr>\n",
       "      <th>Won in hearings</th>\n",
       "      <td>15.714286</td>\n",
       "    </tr>\n",
       "    <tr>\n",
       "      <th>Had Lawyers</th>\n",
       "      <td>11.285714</td>\n",
       "    </tr>\n",
       "    <tr>\n",
       "      <th>percent_won</th>\n",
       "      <td>0.258941</td>\n",
       "    </tr>\n",
       "    <tr>\n",
       "      <th>percent_lawyers</th>\n",
       "      <td>0.196405</td>\n",
       "    </tr>\n",
       "  </tbody>\n",
       "</table>\n",
       "</div>"
      ],
      "text/plain": [
       "                          \n",
       "All hearings     58.714286\n",
       "Won in hearings  15.714286\n",
       "Had Lawyers      11.285714\n",
       "percent_won       0.258941\n",
       "percent_lawyers   0.196405"
      ]
     },
     "execution_count": 1,
     "metadata": {},
     "output_type": "execute_result"
    }
   ],
   "source": [
    "yearly_hearing_outcomes.mean().to_frame(\"\")"
   ]
  },
  {
   "cell_type": "code",
   "execution_count": 19,
   "id": "arranged-shakespeare",
   "metadata": {
    "execution": {
     "iopub.execute_input": "2022-04-26T20:35:07.776164Z",
     "iopub.status.busy": "2022-04-26T20:35:07.775579Z",
     "iopub.status.idle": "2022-04-26T20:35:07.800837Z",
     "shell.execute_reply": "2022-04-26T20:35:07.801348Z"
    }
   },
   "outputs": [
    {
     "data": {
      "text/html": [
       "<div>\n",
       "<style scoped>\n",
       "    .dataframe tbody tr th:only-of-type {\n",
       "        vertical-align: middle;\n",
       "    }\n",
       "\n",
       "    .dataframe tbody tr th {\n",
       "        vertical-align: top;\n",
       "    }\n",
       "\n",
       "    .dataframe thead th {\n",
       "        text-align: right;\n",
       "    }\n",
       "</style>\n",
       "<table border=\"1\" class=\"dataframe\">\n",
       "  <thead>\n",
       "    <tr style=\"text-align: right;\">\n",
       "      <th></th>\n",
       "      <th>lawyers</th>\n",
       "      <th>lawyer success</th>\n",
       "      <th>percent_lawyers_success</th>\n",
       "    </tr>\n",
       "    <tr>\n",
       "      <th>year</th>\n",
       "      <th></th>\n",
       "      <th></th>\n",
       "      <th></th>\n",
       "    </tr>\n",
       "  </thead>\n",
       "  <tbody>\n",
       "    <tr>\n",
       "      <th>2015</th>\n",
       "      <td>11</td>\n",
       "      <td>4</td>\n",
       "      <td>0.363636</td>\n",
       "    </tr>\n",
       "    <tr>\n",
       "      <th>2016</th>\n",
       "      <td>2</td>\n",
       "      <td>0</td>\n",
       "      <td>0.000000</td>\n",
       "    </tr>\n",
       "    <tr>\n",
       "      <th>2017</th>\n",
       "      <td>14</td>\n",
       "      <td>5</td>\n",
       "      <td>0.357143</td>\n",
       "    </tr>\n",
       "    <tr>\n",
       "      <th>2018</th>\n",
       "      <td>20</td>\n",
       "      <td>10</td>\n",
       "      <td>0.500000</td>\n",
       "    </tr>\n",
       "    <tr>\n",
       "      <th>2019</th>\n",
       "      <td>18</td>\n",
       "      <td>11</td>\n",
       "      <td>0.611111</td>\n",
       "    </tr>\n",
       "    <tr>\n",
       "      <th>2020</th>\n",
       "      <td>9</td>\n",
       "      <td>4</td>\n",
       "      <td>0.444444</td>\n",
       "    </tr>\n",
       "    <tr>\n",
       "      <th>2021</th>\n",
       "      <td>6</td>\n",
       "      <td>1</td>\n",
       "      <td>0.166667</td>\n",
       "    </tr>\n",
       "  </tbody>\n",
       "</table>\n",
       "</div>"
      ],
      "text/plain": [
       "      lawyers  lawyer success  percent_lawyers_success\n",
       "year                                                  \n",
       "2015       11               4                 0.363636\n",
       "2016        2               0                 0.000000\n",
       "2017       14               5                 0.357143\n",
       "2018       20              10                 0.500000\n",
       "2019       18              11                 0.611111\n",
       "2020        9               4                 0.444444\n",
       "2021        6               1                 0.166667"
      ]
     },
     "execution_count": 1,
     "metadata": {},
     "output_type": "execute_result"
    }
   ],
   "source": [
    "# lawyer success rate across years\n",
    "yearly_lawyer_success = (\n",
    "    completed\n",
    "    .groupby(\"year\")\n",
    "    .apply( \n",
    "        lambda grp: pd.Series(\n",
    "            {\n",
    "                \"lawyers\": grp.pipe(filter_lawyer).pipe(cases),\n",
    "                \"lawyer success\": (\n",
    "                    grp.pipe(filter_lawyer)\n",
    "                    .pipe(filter_hearing_success)\n",
    "                    .pipe(cases)\n",
    "                )\n",
    "            }\n",
    "        )\n",
    "    )\n",
    "    .assign(\n",
    "        percent_lawyers_success = lambda f: f[\"lawyer success\"]/f[\"lawyers\"]\n",
    "    )\n",
    ")\n",
    "\n",
    "yearly_lawyer_success"
   ]
  },
  {
   "cell_type": "code",
   "execution_count": 20,
   "id": "collected-pilot",
   "metadata": {
    "execution": {
     "iopub.execute_input": "2022-04-26T20:35:07.805353Z",
     "iopub.status.busy": "2022-04-26T20:35:07.804844Z",
     "iopub.status.idle": "2022-04-26T20:35:07.807032Z",
     "shell.execute_reply": "2022-04-26T20:35:07.807387Z"
    }
   },
   "outputs": [
    {
     "data": {
      "text/plain": [
       "lawyers                    11.428571\n",
       "lawyer success              5.000000\n",
       "percent_lawyers_success     0.349000\n",
       "dtype: float64"
      ]
     },
     "execution_count": 1,
     "metadata": {},
     "output_type": "execute_result"
    }
   ],
   "source": [
    "yearly_lawyer_success.mean()"
   ]
  },
  {
   "cell_type": "markdown",
   "id": "wicked-correction",
   "metadata": {},
   "source": [
    "## Other outcomes"
   ]
  },
  {
   "cell_type": "code",
   "execution_count": 21,
   "id": "after-brush",
   "metadata": {
    "execution": {
     "iopub.execute_input": "2022-04-26T20:35:07.812772Z",
     "iopub.status.busy": "2022-04-26T20:35:07.812009Z",
     "iopub.status.idle": "2022-04-26T20:35:07.820314Z",
     "shell.execute_reply": "2022-04-26T20:35:07.820713Z"
    }
   },
   "outputs": [
    {
     "data": {
      "text/html": [
       "<div>\n",
       "<style scoped>\n",
       "    .dataframe tbody tr th:only-of-type {\n",
       "        vertical-align: middle;\n",
       "    }\n",
       "\n",
       "    .dataframe tbody tr th {\n",
       "        vertical-align: top;\n",
       "    }\n",
       "\n",
       "    .dataframe thead th {\n",
       "        text-align: right;\n",
       "    }\n",
       "</style>\n",
       "<table border=\"1\" class=\"dataframe\">\n",
       "  <thead>\n",
       "    <tr style=\"text-align: right;\">\n",
       "      <th></th>\n",
       "      <th>cases</th>\n",
       "      <th>percent</th>\n",
       "    </tr>\n",
       "  </thead>\n",
       "  <tbody>\n",
       "    <tr>\n",
       "      <th>Failed to appear</th>\n",
       "      <td>361</td>\n",
       "      <td>0.258226</td>\n",
       "    </tr>\n",
       "    <tr>\n",
       "      <th>Settled (tends to be good)</th>\n",
       "      <td>485</td>\n",
       "      <td>0.346924</td>\n",
       "    </tr>\n",
       "    <tr>\n",
       "      <th>Dismissed</th>\n",
       "      <td>138</td>\n",
       "      <td>0.098712</td>\n",
       "    </tr>\n",
       "  </tbody>\n",
       "</table>\n",
       "</div>"
      ],
      "text/plain": [
       "                            cases   percent\n",
       "Failed to appear              361  0.258226\n",
       "Settled (tends to be good)    485  0.346924\n",
       "Dismissed                     138  0.098712"
      ]
     },
     "execution_count": 1,
     "metadata": {},
     "output_type": "execute_result"
    }
   ],
   "source": [
    "## Outcomes: vacated, settled, fail to appear\n",
    "def filter_fta(df):\n",
    "    return df.loc[ \n",
    "        lambda x: x[\"Vacate\"] == \"FTA\"\n",
    "    ]\n",
    "\n",
    "def filter_settled(df):\n",
    "    return df.loc[\n",
    "          lambda x: x[\"Vacate\"].isin([\"SETTLE\"])\n",
    "    ]\n",
    "\n",
    "def filter_dismissed(df):\n",
    "    return df.loc[\n",
    "        lambda x: x[\"Vacate\"].isin([\"DCS\", \"VACATE\", \"VACO\"])\n",
    "    ]\n",
    "\n",
    "(\n",
    "    pd\n",
    "    .DataFrame(\n",
    "        {\n",
    "            \"Failed to appear\": completed.pipe(filter_fta).pipe(cases),\n",
    "            \"Settled (tends to be good)\": completed.pipe(filter_settled).pipe(cases),\n",
    "            \"Dismissed\": completed.pipe(filter_dismissed).pipe(cases),\n",
    "        },\n",
    "        index = [\"cases\"]\n",
    "    )\n",
    "    .T\n",
    "    .assign(\n",
    "        percent = lambda f: f[\"cases\"]/(completed.pipe(cases))\n",
    "    )\n",
    ")"
   ]
  },
  {
   "cell_type": "code",
   "execution_count": 22,
   "id": "laden-mission",
   "metadata": {
    "execution": {
     "iopub.execute_input": "2022-04-26T20:35:07.825333Z",
     "iopub.status.busy": "2022-04-26T20:35:07.824783Z",
     "iopub.status.idle": "2022-04-26T20:35:07.850797Z",
     "shell.execute_reply": "2022-04-26T20:35:07.851172Z"
    }
   },
   "outputs": [
    {
     "data": {
      "text/html": [
       "<div>\n",
       "<style scoped>\n",
       "    .dataframe tbody tr th:only-of-type {\n",
       "        vertical-align: middle;\n",
       "    }\n",
       "\n",
       "    .dataframe tbody tr th {\n",
       "        vertical-align: top;\n",
       "    }\n",
       "\n",
       "    .dataframe thead th {\n",
       "        text-align: right;\n",
       "    }\n",
       "</style>\n",
       "<table border=\"1\" class=\"dataframe\">\n",
       "  <thead>\n",
       "    <tr style=\"text-align: right;\">\n",
       "      <th></th>\n",
       "      <th>All requests</th>\n",
       "      <th>Failed to appear</th>\n",
       "      <th>Settled</th>\n",
       "      <th>Dismissed</th>\n",
       "      <th>settled_or_dismissed</th>\n",
       "      <th>percent_settled_or_dismissed</th>\n",
       "      <th>percent_fta</th>\n",
       "      <th>percent_settled</th>\n",
       "      <th>percent_dismissed</th>\n",
       "    </tr>\n",
       "    <tr>\n",
       "      <th>year</th>\n",
       "      <th></th>\n",
       "      <th></th>\n",
       "      <th></th>\n",
       "      <th></th>\n",
       "      <th></th>\n",
       "      <th></th>\n",
       "      <th></th>\n",
       "      <th></th>\n",
       "      <th></th>\n",
       "    </tr>\n",
       "  </thead>\n",
       "  <tbody>\n",
       "    <tr>\n",
       "      <th>2015</th>\n",
       "      <td>245</td>\n",
       "      <td>64</td>\n",
       "      <td>64</td>\n",
       "      <td>15</td>\n",
       "      <td>79</td>\n",
       "      <td>0.322449</td>\n",
       "      <td>0.261224</td>\n",
       "      <td>0.261224</td>\n",
       "      <td>0.061224</td>\n",
       "    </tr>\n",
       "    <tr>\n",
       "      <th>2016</th>\n",
       "      <td>238</td>\n",
       "      <td>52</td>\n",
       "      <td>102</td>\n",
       "      <td>25</td>\n",
       "      <td>127</td>\n",
       "      <td>0.533613</td>\n",
       "      <td>0.218487</td>\n",
       "      <td>0.428571</td>\n",
       "      <td>0.105042</td>\n",
       "    </tr>\n",
       "    <tr>\n",
       "      <th>2017</th>\n",
       "      <td>158</td>\n",
       "      <td>35</td>\n",
       "      <td>47</td>\n",
       "      <td>15</td>\n",
       "      <td>62</td>\n",
       "      <td>0.392405</td>\n",
       "      <td>0.221519</td>\n",
       "      <td>0.297468</td>\n",
       "      <td>0.094937</td>\n",
       "    </tr>\n",
       "    <tr>\n",
       "      <th>2018</th>\n",
       "      <td>345</td>\n",
       "      <td>82</td>\n",
       "      <td>104</td>\n",
       "      <td>44</td>\n",
       "      <td>148</td>\n",
       "      <td>0.428986</td>\n",
       "      <td>0.237681</td>\n",
       "      <td>0.301449</td>\n",
       "      <td>0.127536</td>\n",
       "    </tr>\n",
       "    <tr>\n",
       "      <th>2019</th>\n",
       "      <td>289</td>\n",
       "      <td>75</td>\n",
       "      <td>103</td>\n",
       "      <td>22</td>\n",
       "      <td>125</td>\n",
       "      <td>0.432526</td>\n",
       "      <td>0.259516</td>\n",
       "      <td>0.356401</td>\n",
       "      <td>0.076125</td>\n",
       "    </tr>\n",
       "    <tr>\n",
       "      <th>2020</th>\n",
       "      <td>192</td>\n",
       "      <td>34</td>\n",
       "      <td>49</td>\n",
       "      <td>16</td>\n",
       "      <td>65</td>\n",
       "      <td>0.338542</td>\n",
       "      <td>0.177083</td>\n",
       "      <td>0.255208</td>\n",
       "      <td>0.083333</td>\n",
       "    </tr>\n",
       "    <tr>\n",
       "      <th>2021</th>\n",
       "      <td>132</td>\n",
       "      <td>19</td>\n",
       "      <td>16</td>\n",
       "      <td>1</td>\n",
       "      <td>17</td>\n",
       "      <td>0.128788</td>\n",
       "      <td>0.143939</td>\n",
       "      <td>0.121212</td>\n",
       "      <td>0.007576</td>\n",
       "    </tr>\n",
       "  </tbody>\n",
       "</table>\n",
       "</div>"
      ],
      "text/plain": [
       "      All requests  Failed to appear  Settled  Dismissed  \\\n",
       "year                                                       \n",
       "2015           245                64       64         15   \n",
       "2016           238                52      102         25   \n",
       "2017           158                35       47         15   \n",
       "2018           345                82      104         44   \n",
       "2019           289                75      103         22   \n",
       "2020           192                34       49         16   \n",
       "2021           132                19       16          1   \n",
       "\n",
       "      settled_or_dismissed  percent_settled_or_dismissed  percent_fta  \\\n",
       "year                                                                    \n",
       "2015                    79                      0.322449     0.261224   \n",
       "2016                   127                      0.533613     0.218487   \n",
       "2017                    62                      0.392405     0.221519   \n",
       "2018                   148                      0.428986     0.237681   \n",
       "2019                   125                      0.432526     0.259516   \n",
       "2020                    65                      0.338542     0.177083   \n",
       "2021                    17                      0.128788     0.143939   \n",
       "\n",
       "      percent_settled  percent_dismissed  \n",
       "year                                      \n",
       "2015         0.261224           0.061224  \n",
       "2016         0.428571           0.105042  \n",
       "2017         0.297468           0.094937  \n",
       "2018         0.301449           0.127536  \n",
       "2019         0.356401           0.076125  \n",
       "2020         0.255208           0.083333  \n",
       "2021         0.121212           0.007576  "
      ]
     },
     "execution_count": 1,
     "metadata": {},
     "output_type": "execute_result"
    }
   ],
   "source": [
    "# yearly other outcomes\n",
    "yearly_other_outcomes = (\n",
    "    # using df all because calculating the incompletes too\n",
    "    df_all\n",
    "    .groupby(\"year\")\n",
    "    .apply( \n",
    "        lambda grp: pd.Series(\n",
    "            {\n",
    "                \"All requests\": grp.pipe(cases),\n",
    "                \"Failed to appear\": grp.pipe(filter_fta).pipe(cases),\n",
    "                \"Settled\": grp.pipe(filter_settled).pipe(cases),\n",
    "                \"Dismissed\": grp.pipe(filter_dismissed).pipe(cases),\n",
    "            }\n",
    "        )\n",
    "    )\n",
    "    .assign(\n",
    "        settled_or_dismissed = lambda f: f[\"Settled\"] + f[\"Dismissed\"],\n",
    "        percent_settled_or_dismissed = lambda f: f[\"settled_or_dismissed\"]/f[\"All requests\"],\n",
    "        percent_fta = lambda f: f[\"Failed to appear\"]/f[\"All requests\"],\n",
    "        percent_settled = lambda f: f[\"Settled\"]/f[\"All requests\"],\n",
    "        percent_dismissed = lambda f: f[\"Dismissed\"]/f[\"All requests\"]\n",
    "    )\n",
    ")\n",
    "\n",
    "yearly_other_outcomes"
   ]
  },
  {
   "cell_type": "code",
   "execution_count": 23,
   "id": "southeast-virtue",
   "metadata": {
    "execution": {
     "iopub.execute_input": "2022-04-26T20:35:07.857946Z",
     "iopub.status.busy": "2022-04-26T20:35:07.856998Z",
     "iopub.status.idle": "2022-04-26T20:35:07.859895Z",
     "shell.execute_reply": "2022-04-26T20:35:07.860353Z"
    }
   },
   "outputs": [
    {
     "data": {
      "text/html": [
       "<div>\n",
       "<style scoped>\n",
       "    .dataframe tbody tr th:only-of-type {\n",
       "        vertical-align: middle;\n",
       "    }\n",
       "\n",
       "    .dataframe tbody tr th {\n",
       "        vertical-align: top;\n",
       "    }\n",
       "\n",
       "    .dataframe thead th {\n",
       "        text-align: right;\n",
       "    }\n",
       "</style>\n",
       "<table border=\"1\" class=\"dataframe\">\n",
       "  <thead>\n",
       "    <tr style=\"text-align: right;\">\n",
       "      <th></th>\n",
       "      <th></th>\n",
       "    </tr>\n",
       "  </thead>\n",
       "  <tbody>\n",
       "    <tr>\n",
       "      <th>All requests</th>\n",
       "      <td>228.428571</td>\n",
       "    </tr>\n",
       "    <tr>\n",
       "      <th>Failed to appear</th>\n",
       "      <td>51.571429</td>\n",
       "    </tr>\n",
       "    <tr>\n",
       "      <th>Settled</th>\n",
       "      <td>69.285714</td>\n",
       "    </tr>\n",
       "    <tr>\n",
       "      <th>Dismissed</th>\n",
       "      <td>19.714286</td>\n",
       "    </tr>\n",
       "    <tr>\n",
       "      <th>settled_or_dismissed</th>\n",
       "      <td>89.000000</td>\n",
       "    </tr>\n",
       "    <tr>\n",
       "      <th>percent_settled_or_dismissed</th>\n",
       "      <td>0.368187</td>\n",
       "    </tr>\n",
       "    <tr>\n",
       "      <th>percent_fta</th>\n",
       "      <td>0.217064</td>\n",
       "    </tr>\n",
       "    <tr>\n",
       "      <th>percent_settled</th>\n",
       "      <td>0.288791</td>\n",
       "    </tr>\n",
       "    <tr>\n",
       "      <th>percent_dismissed</th>\n",
       "      <td>0.079396</td>\n",
       "    </tr>\n",
       "  </tbody>\n",
       "</table>\n",
       "</div>"
      ],
      "text/plain": [
       "                                        \n",
       "All requests                  228.428571\n",
       "Failed to appear               51.571429\n",
       "Settled                        69.285714\n",
       "Dismissed                      19.714286\n",
       "settled_or_dismissed           89.000000\n",
       "percent_settled_or_dismissed    0.368187\n",
       "percent_fta                     0.217064\n",
       "percent_settled                 0.288791\n",
       "percent_dismissed               0.079396"
      ]
     },
     "execution_count": 1,
     "metadata": {},
     "output_type": "execute_result"
    }
   ],
   "source": [
    "yearly_other_outcomes.mean().to_frame(\"\")"
   ]
  },
  {
   "cell_type": "code",
   "execution_count": 24,
   "id": "union-western",
   "metadata": {
    "execution": {
     "iopub.execute_input": "2022-04-26T20:35:07.863883Z",
     "iopub.status.busy": "2022-04-26T20:35:07.863250Z",
     "iopub.status.idle": "2022-04-26T20:35:07.865634Z",
     "shell.execute_reply": "2022-04-26T20:35:07.866066Z"
    }
   },
   "outputs": [
    {
     "data": {
      "text/plain": [
       "array(['DCS', nan, 'SETTLE', 'FTA', 'HEARING',\n",
       "       'MATTER NO LONGER HAS VACATE ORDER', 'VACATE', 'VACO'],\n",
       "      dtype=object)"
      ]
     },
     "execution_count": 1,
     "metadata": {},
     "output_type": "execute_result"
    }
   ],
   "source": [
    "completed[\"Vacate\"].unique()"
   ]
  },
  {
   "cell_type": "code",
   "execution_count": 25,
   "id": "engaged-template",
   "metadata": {
    "execution": {
     "iopub.execute_input": "2022-04-26T20:35:07.874997Z",
     "iopub.status.busy": "2022-04-26T20:35:07.870608Z",
     "iopub.status.idle": "2022-04-26T20:35:07.902218Z",
     "shell.execute_reply": "2022-04-26T20:35:07.902709Z"
    }
   },
   "outputs": [
    {
     "data": {
      "text/html": [
       "<div>\n",
       "<style scoped>\n",
       "    .dataframe tbody tr th:only-of-type {\n",
       "        vertical-align: middle;\n",
       "    }\n",
       "\n",
       "    .dataframe tbody tr th {\n",
       "        vertical-align: top;\n",
       "    }\n",
       "\n",
       "    .dataframe thead th {\n",
       "        text-align: right;\n",
       "    }\n",
       "</style>\n",
       "<table border=\"1\" class=\"dataframe\">\n",
       "  <thead>\n",
       "    <tr style=\"text-align: right;\">\n",
       "      <th></th>\n",
       "      <th>All</th>\n",
       "      <th>Won</th>\n",
       "      <th>Won or settled</th>\n",
       "      <th>percent_won_settled</th>\n",
       "    </tr>\n",
       "    <tr>\n",
       "      <th>year</th>\n",
       "      <th></th>\n",
       "      <th></th>\n",
       "      <th></th>\n",
       "      <th></th>\n",
       "    </tr>\n",
       "  </thead>\n",
       "  <tbody>\n",
       "    <tr>\n",
       "      <th>2015</th>\n",
       "      <td>152</td>\n",
       "      <td>21</td>\n",
       "      <td>85</td>\n",
       "      <td>0.559211</td>\n",
       "    </tr>\n",
       "    <tr>\n",
       "      <th>2016</th>\n",
       "      <td>164</td>\n",
       "      <td>9</td>\n",
       "      <td>111</td>\n",
       "      <td>0.676829</td>\n",
       "    </tr>\n",
       "    <tr>\n",
       "      <th>2017</th>\n",
       "      <td>102</td>\n",
       "      <td>11</td>\n",
       "      <td>58</td>\n",
       "      <td>0.568627</td>\n",
       "    </tr>\n",
       "    <tr>\n",
       "      <th>2018</th>\n",
       "      <td>238</td>\n",
       "      <td>32</td>\n",
       "      <td>136</td>\n",
       "      <td>0.571429</td>\n",
       "    </tr>\n",
       "    <tr>\n",
       "      <th>2019</th>\n",
       "      <td>187</td>\n",
       "      <td>20</td>\n",
       "      <td>123</td>\n",
       "      <td>0.657754</td>\n",
       "    </tr>\n",
       "    <tr>\n",
       "      <th>2020</th>\n",
       "      <td>146</td>\n",
       "      <td>12</td>\n",
       "      <td>61</td>\n",
       "      <td>0.417808</td>\n",
       "    </tr>\n",
       "    <tr>\n",
       "      <th>2021</th>\n",
       "      <td>48</td>\n",
       "      <td>5</td>\n",
       "      <td>21</td>\n",
       "      <td>0.437500</td>\n",
       "    </tr>\n",
       "  </tbody>\n",
       "</table>\n",
       "</div>"
      ],
      "text/plain": [
       "      All  Won  Won or settled  percent_won_settled\n",
       "year                                               \n",
       "2015  152   21              85             0.559211\n",
       "2016  164    9             111             0.676829\n",
       "2017  102   11              58             0.568627\n",
       "2018  238   32             136             0.571429\n",
       "2019  187   20             123             0.657754\n",
       "2020  146   12              61             0.417808\n",
       "2021   48    5              21             0.437500"
      ]
     },
     "execution_count": 1,
     "metadata": {},
     "output_type": "execute_result"
    }
   ],
   "source": [
    "# yearly completion outcomes\n",
    "yearly_completion_outcomes = (\n",
    "    completed\n",
    "    .loc[\n",
    "        lambda x: x[\"Vacate\"] != \"FTA\"\n",
    "    ]\n",
    "    .groupby(\"year\")\n",
    "    .apply( lambda grp: \n",
    "        pd.Series(\n",
    "        {\n",
    "            \"All\": grp.pipe(cases),\n",
    "            \"Won\": grp.pipe(filter_hearing_success).pipe(cases),\n",
    "            \"Won or settled\": (\n",
    "                grp.pipe(filter_hearing_success).pipe(cases) +\n",
    "                grp.pipe(filter_settled).pipe(cases)\n",
    "            )\n",
    "        })\n",
    "    )\n",
    "    .assign(\n",
    "        percent_won_settled = lambda f: f[\"Won or settled\"]/f[\"All\"]\n",
    "    )\n",
    ")\n",
    "yearly_completion_outcomes"
   ]
  },
  {
   "cell_type": "code",
   "execution_count": 26,
   "id": "offshore-community",
   "metadata": {
    "execution": {
     "iopub.execute_input": "2022-04-26T20:35:07.908433Z",
     "iopub.status.busy": "2022-04-26T20:35:07.907732Z",
     "iopub.status.idle": "2022-04-26T20:35:07.910399Z",
     "shell.execute_reply": "2022-04-26T20:35:07.910756Z"
    }
   },
   "outputs": [
    {
     "data": {
      "text/html": [
       "<div>\n",
       "<style scoped>\n",
       "    .dataframe tbody tr th:only-of-type {\n",
       "        vertical-align: middle;\n",
       "    }\n",
       "\n",
       "    .dataframe tbody tr th {\n",
       "        vertical-align: top;\n",
       "    }\n",
       "\n",
       "    .dataframe thead th {\n",
       "        text-align: right;\n",
       "    }\n",
       "</style>\n",
       "<table border=\"1\" class=\"dataframe\">\n",
       "  <thead>\n",
       "    <tr style=\"text-align: right;\">\n",
       "      <th></th>\n",
       "      <th></th>\n",
       "    </tr>\n",
       "  </thead>\n",
       "  <tbody>\n",
       "    <tr>\n",
       "      <th>All</th>\n",
       "      <td>148.142857</td>\n",
       "    </tr>\n",
       "    <tr>\n",
       "      <th>Won</th>\n",
       "      <td>15.714286</td>\n",
       "    </tr>\n",
       "    <tr>\n",
       "      <th>Won or settled</th>\n",
       "      <td>85.000000</td>\n",
       "    </tr>\n",
       "    <tr>\n",
       "      <th>percent_won_settled</th>\n",
       "      <td>0.555594</td>\n",
       "    </tr>\n",
       "  </tbody>\n",
       "</table>\n",
       "</div>"
      ],
      "text/plain": [
       "                               \n",
       "All                  148.142857\n",
       "Won                   15.714286\n",
       "Won or settled        85.000000\n",
       "percent_won_settled    0.555594"
      ]
     },
     "execution_count": 1,
     "metadata": {},
     "output_type": "execute_result"
    }
   ],
   "source": [
    "yearly_completion_outcomes.mean().to_frame(\"\")"
   ]
  },
  {
   "cell_type": "markdown",
   "id": "gothic-necessity",
   "metadata": {},
   "source": [
    "## DCS decisions"
   ]
  },
  {
   "cell_type": "code",
   "execution_count": 27,
   "id": "veterinary-laptop",
   "metadata": {
    "execution": {
     "iopub.execute_input": "2022-04-26T20:35:07.916909Z",
     "iopub.status.busy": "2022-04-26T20:35:07.914774Z",
     "iopub.status.idle": "2022-04-26T20:35:07.919163Z",
     "shell.execute_reply": "2022-04-26T20:35:07.919544Z"
    }
   },
   "outputs": [
    {
     "data": {
      "text/plain": [
       "CERT                                 153\n",
       "ALJ CERT                             140\n",
       "AACCEPEDIT                            26\n",
       "ACCEPT                                25\n",
       "ACCEPT W/ MINOR TEXT CORRECTIONS       3\n",
       "ADOPTED W/ MINOR TEXT CORRECTIONS      1\n",
       "ADOPTED W/ MODIFICATIONS               1\n",
       "DCS ACCEPTS W/MODIFCATIONS             1\n",
       "ALJCERT                                1\n",
       "AGENCY ACCEPTED DEC.                   1\n",
       "Name: Decision, dtype: int64"
      ]
     },
     "execution_count": 1,
     "metadata": {},
     "output_type": "execute_result"
    }
   ],
   "source": [
    "def filter_accepted(df): \n",
    "    return (\n",
    "        df\n",
    "        .dropna( subset = [\"Decision\"])\n",
    "        .loc[ \n",
    "            lambda x: \n",
    "            x[\"Decision\"].str.contains(\"ACCEPT|CERT|AACCEPEDIT|Adopted\", case = False)\n",
    "        ]\n",
    "    )\n",
    "\n",
    "# Get all accepted decisions\n",
    "completed.pipe(filter_accepted)[\"Decision\"].value_counts()"
   ]
  },
  {
   "cell_type": "code",
   "execution_count": 28,
   "id": "inner-fisher",
   "metadata": {
    "execution": {
     "iopub.execute_input": "2022-04-26T20:35:07.925228Z",
     "iopub.status.busy": "2022-04-26T20:35:07.922446Z",
     "iopub.status.idle": "2022-04-26T20:35:07.929529Z",
     "shell.execute_reply": "2022-04-26T20:35:07.929946Z"
    }
   },
   "outputs": [
    {
     "data": {
      "text/plain": [
       "0.6818181818181818"
      ]
     },
     "execution_count": 1,
     "metadata": {},
     "output_type": "execute_result"
    }
   ],
   "source": [
    "# Percent of won cases accepted\n",
    "(\n",
    "    completed\n",
    "    .pipe(filter_hearing_success)\n",
    "    .pipe(filter_accepted)\n",
    "    .pipe(cases)/(\n",
    "        completed\n",
    "        .pipe(filter_hearing_success)\n",
    "        .pipe(cases)\n",
    "    )\n",
    ")\n"
   ]
  },
  {
   "cell_type": "markdown",
   "id": "initial-manner",
   "metadata": {},
   "source": [
    "## Compare to substantiations"
   ]
  },
  {
   "cell_type": "code",
   "execution_count": 29,
   "id": "focal-employer",
   "metadata": {
    "execution": {
     "iopub.execute_input": "2022-04-26T20:35:07.933335Z",
     "iopub.status.busy": "2022-04-26T20:35:07.932837Z",
     "iopub.status.idle": "2022-04-26T20:35:07.941922Z",
     "shell.execute_reply": "2022-04-26T20:35:07.942275Z"
    }
   },
   "outputs": [
    {
     "data": {
      "text/html": [
       "<div>\n",
       "<style scoped>\n",
       "    .dataframe tbody tr th:only-of-type {\n",
       "        vertical-align: middle;\n",
       "    }\n",
       "\n",
       "    .dataframe tbody tr th {\n",
       "        vertical-align: top;\n",
       "    }\n",
       "\n",
       "    .dataframe thead th {\n",
       "        text-align: right;\n",
       "    }\n",
       "</style>\n",
       "<table border=\"1\" class=\"dataframe\">\n",
       "  <thead>\n",
       "    <tr style=\"text-align: right;\">\n",
       "      <th></th>\n",
       "      <th>year</th>\n",
       "      <th>Count</th>\n",
       "    </tr>\n",
       "  </thead>\n",
       "  <tbody>\n",
       "    <tr>\n",
       "      <th>0</th>\n",
       "      <td>2010</td>\n",
       "      <td>9954.0</td>\n",
       "    </tr>\n",
       "    <tr>\n",
       "      <th>1</th>\n",
       "      <td>2011</td>\n",
       "      <td>11659.0</td>\n",
       "    </tr>\n",
       "    <tr>\n",
       "      <th>2</th>\n",
       "      <td>2012</td>\n",
       "      <td>14452.0</td>\n",
       "    </tr>\n",
       "    <tr>\n",
       "      <th>3</th>\n",
       "      <td>2013</td>\n",
       "      <td>15640.0</td>\n",
       "    </tr>\n",
       "    <tr>\n",
       "      <th>4</th>\n",
       "      <td>2014</td>\n",
       "      <td>18137.0</td>\n",
       "    </tr>\n",
       "    <tr>\n",
       "      <th>5</th>\n",
       "      <td>2015</td>\n",
       "      <td>18664.0</td>\n",
       "    </tr>\n",
       "    <tr>\n",
       "      <th>6</th>\n",
       "      <td>2016</td>\n",
       "      <td>16886.0</td>\n",
       "    </tr>\n",
       "    <tr>\n",
       "      <th>7</th>\n",
       "      <td>2017</td>\n",
       "      <td>15934.0</td>\n",
       "    </tr>\n",
       "    <tr>\n",
       "      <th>8</th>\n",
       "      <td>2018</td>\n",
       "      <td>15949.0</td>\n",
       "    </tr>\n",
       "    <tr>\n",
       "      <th>9</th>\n",
       "      <td>2019</td>\n",
       "      <td>14441.0</td>\n",
       "    </tr>\n",
       "    <tr>\n",
       "      <th>10</th>\n",
       "      <td>2020</td>\n",
       "      <td>9038.0</td>\n",
       "    </tr>\n",
       "    <tr>\n",
       "      <th>11</th>\n",
       "      <td>2021</td>\n",
       "      <td>411.0</td>\n",
       "    </tr>\n",
       "  </tbody>\n",
       "</table>\n",
       "</div>"
      ],
      "text/plain": [
       "    year    Count\n",
       "0   2010   9954.0\n",
       "1   2011  11659.0\n",
       "2   2012  14452.0\n",
       "3   2013  15640.0\n",
       "4   2014  18137.0\n",
       "5   2015  18664.0\n",
       "6   2016  16886.0\n",
       "7   2017  15934.0\n",
       "8   2018  15949.0\n",
       "9   2019  14441.0\n",
       "10  2020   9038.0\n",
       "11  2021    411.0"
      ]
     },
     "execution_count": 1,
     "metadata": {},
     "output_type": "execute_result"
    }
   ],
   "source": [
    "subs = (\n",
    "    pd\n",
    "    .read_csv(\"../../outputs/AZ_yearly_subs.csv\")\n",
    "    .groupby(\"year\")\n",
    "    .sum()\n",
    "    .reset_index()\n",
    "    .assign(\n",
    "        year = lambda f: f[\"year\"].astype(str)\n",
    "    )\n",
    ")\n",
    "\n",
    "subs"
   ]
  },
  {
   "cell_type": "code",
   "execution_count": 30,
   "id": "iraqi-simulation",
   "metadata": {
    "execution": {
     "iopub.execute_input": "2022-04-26T20:35:07.946826Z",
     "iopub.status.busy": "2022-04-26T20:35:07.946281Z",
     "iopub.status.idle": "2022-04-26T20:35:07.952306Z",
     "shell.execute_reply": "2022-04-26T20:35:07.952723Z"
    }
   },
   "outputs": [
    {
     "data": {
      "text/html": [
       "<div>\n",
       "<style scoped>\n",
       "    .dataframe tbody tr th:only-of-type {\n",
       "        vertical-align: middle;\n",
       "    }\n",
       "\n",
       "    .dataframe tbody tr th {\n",
       "        vertical-align: top;\n",
       "    }\n",
       "\n",
       "    .dataframe thead th {\n",
       "        text-align: right;\n",
       "    }\n",
       "</style>\n",
       "<table border=\"1\" class=\"dataframe\">\n",
       "  <thead>\n",
       "    <tr style=\"text-align: right;\">\n",
       "      <th></th>\n",
       "      <th>year</th>\n",
       "      <th>appellants</th>\n",
       "    </tr>\n",
       "  </thead>\n",
       "  <tbody>\n",
       "    <tr>\n",
       "      <th>0</th>\n",
       "      <td>2015</td>\n",
       "      <td>245</td>\n",
       "    </tr>\n",
       "    <tr>\n",
       "      <th>1</th>\n",
       "      <td>2016</td>\n",
       "      <td>238</td>\n",
       "    </tr>\n",
       "    <tr>\n",
       "      <th>2</th>\n",
       "      <td>2017</td>\n",
       "      <td>158</td>\n",
       "    </tr>\n",
       "    <tr>\n",
       "      <th>3</th>\n",
       "      <td>2018</td>\n",
       "      <td>345</td>\n",
       "    </tr>\n",
       "    <tr>\n",
       "      <th>4</th>\n",
       "      <td>2019</td>\n",
       "      <td>289</td>\n",
       "    </tr>\n",
       "    <tr>\n",
       "      <th>5</th>\n",
       "      <td>2020</td>\n",
       "      <td>192</td>\n",
       "    </tr>\n",
       "    <tr>\n",
       "      <th>6</th>\n",
       "      <td>2021</td>\n",
       "      <td>132</td>\n",
       "    </tr>\n",
       "  </tbody>\n",
       "</table>\n",
       "</div>"
      ],
      "text/plain": [
       "   year  appellants\n",
       "0  2015         245\n",
       "1  2016         238\n",
       "2  2017         158\n",
       "3  2018         345\n",
       "4  2019         289\n",
       "5  2020         192\n",
       "6  2021         132"
      ]
     },
     "execution_count": 1,
     "metadata": {},
     "output_type": "execute_result"
    }
   ],
   "source": [
    "# reshape main frame for merging\n",
    "appeals_yearly = (\n",
    "    df_all\n",
    "    .assign(\n",
    "        year = lambda f: f[\"Request for Hearing\"].str.slice(-4),\n",
    "    )\n",
    "    .groupby(\"year\")\n",
    "    [\"Matter ID\"]\n",
    "    .nunique()\n",
    "    .to_frame(\"appellants\")\n",
    "    .reset_index()\n",
    ")\n",
    "\n",
    "appeals_yearly"
   ]
  },
  {
   "cell_type": "code",
   "execution_count": 31,
   "id": "cellular-acrylic",
   "metadata": {
    "execution": {
     "iopub.execute_input": "2022-04-26T20:35:07.963005Z",
     "iopub.status.busy": "2022-04-26T20:35:07.962425Z",
     "iopub.status.idle": "2022-04-26T20:35:07.964594Z",
     "shell.execute_reply": "2022-04-26T20:35:07.965023Z"
    }
   },
   "outputs": [
    {
     "data": {
      "text/html": [
       "<div>\n",
       "<style scoped>\n",
       "    .dataframe tbody tr th:only-of-type {\n",
       "        vertical-align: middle;\n",
       "    }\n",
       "\n",
       "    .dataframe tbody tr th {\n",
       "        vertical-align: top;\n",
       "    }\n",
       "\n",
       "    .dataframe thead th {\n",
       "        text-align: right;\n",
       "    }\n",
       "</style>\n",
       "<table border=\"1\" class=\"dataframe\">\n",
       "  <thead>\n",
       "    <tr style=\"text-align: right;\">\n",
       "      <th></th>\n",
       "      <th>year</th>\n",
       "      <th>appellants</th>\n",
       "      <th>Count</th>\n",
       "      <th>percent</th>\n",
       "    </tr>\n",
       "  </thead>\n",
       "  <tbody>\n",
       "    <tr>\n",
       "      <th>0</th>\n",
       "      <td>2015</td>\n",
       "      <td>245</td>\n",
       "      <td>18664.0</td>\n",
       "      <td>0.013</td>\n",
       "    </tr>\n",
       "    <tr>\n",
       "      <th>1</th>\n",
       "      <td>2016</td>\n",
       "      <td>238</td>\n",
       "      <td>16886.0</td>\n",
       "      <td>0.014</td>\n",
       "    </tr>\n",
       "    <tr>\n",
       "      <th>2</th>\n",
       "      <td>2017</td>\n",
       "      <td>158</td>\n",
       "      <td>15934.0</td>\n",
       "      <td>0.010</td>\n",
       "    </tr>\n",
       "    <tr>\n",
       "      <th>3</th>\n",
       "      <td>2018</td>\n",
       "      <td>345</td>\n",
       "      <td>15949.0</td>\n",
       "      <td>0.022</td>\n",
       "    </tr>\n",
       "    <tr>\n",
       "      <th>4</th>\n",
       "      <td>2019</td>\n",
       "      <td>289</td>\n",
       "      <td>14441.0</td>\n",
       "      <td>0.020</td>\n",
       "    </tr>\n",
       "    <tr>\n",
       "      <th>5</th>\n",
       "      <td>2020</td>\n",
       "      <td>192</td>\n",
       "      <td>9038.0</td>\n",
       "      <td>0.021</td>\n",
       "    </tr>\n",
       "  </tbody>\n",
       "</table>\n",
       "</div>"
      ],
      "text/plain": [
       "   year  appellants    Count  percent\n",
       "0  2015         245  18664.0    0.013\n",
       "1  2016         238  16886.0    0.014\n",
       "2  2017         158  15934.0    0.010\n",
       "3  2018         345  15949.0    0.022\n",
       "4  2019         289  14441.0    0.020\n",
       "5  2020         192   9038.0    0.021"
      ]
     },
     "execution_count": 1,
     "metadata": {},
     "output_type": "execute_result"
    }
   ],
   "source": [
    "# get percent of perps who appeal\n",
    "with_subs = (\n",
    "    appeals_yearly\n",
    "    .merge(\n",
    "        subs,\n",
    "        on = \"year\"\n",
    "    )\n",
    "    .assign(\n",
    "        percent = lambda f: round((f[\"appellants\"]/f[\"Count\"]), 3)\n",
    "    )\n",
    "    .sort_values(\"year\")\n",
    "    .loc[ lambda x: x[\"year\"] != \"2021\" ] # substantiation data for 2021 is incomplete\n",
    ")\n",
    "\n",
    "with_subs"
   ]
  },
  {
   "cell_type": "code",
   "execution_count": 32,
   "id": "compact-pennsylvania",
   "metadata": {
    "execution": {
     "iopub.execute_input": "2022-04-26T20:35:07.970813Z",
     "iopub.status.busy": "2022-04-26T20:35:07.970241Z",
     "iopub.status.idle": "2022-04-26T20:35:07.972563Z",
     "shell.execute_reply": "2022-04-26T20:35:07.972981Z"
    }
   },
   "outputs": [
    {
     "data": {
      "text/html": [
       "<div>\n",
       "<style scoped>\n",
       "    .dataframe tbody tr th:only-of-type {\n",
       "        vertical-align: middle;\n",
       "    }\n",
       "\n",
       "    .dataframe tbody tr th {\n",
       "        vertical-align: top;\n",
       "    }\n",
       "\n",
       "    .dataframe thead th {\n",
       "        text-align: right;\n",
       "    }\n",
       "</style>\n",
       "<table border=\"1\" class=\"dataframe\">\n",
       "  <thead>\n",
       "    <tr style=\"text-align: right;\">\n",
       "      <th></th>\n",
       "      <th></th>\n",
       "    </tr>\n",
       "  </thead>\n",
       "  <tbody>\n",
       "    <tr>\n",
       "      <th>appellants</th>\n",
       "      <td>244.500000</td>\n",
       "    </tr>\n",
       "    <tr>\n",
       "      <th>Count</th>\n",
       "      <td>15152.000000</td>\n",
       "    </tr>\n",
       "    <tr>\n",
       "      <th>percent</th>\n",
       "      <td>0.016667</td>\n",
       "    </tr>\n",
       "  </tbody>\n",
       "</table>\n",
       "</div>"
      ],
      "text/plain": [
       "                        \n",
       "appellants    244.500000\n",
       "Count       15152.000000\n",
       "percent         0.016667"
      ]
     },
     "execution_count": 1,
     "metadata": {},
     "output_type": "execute_result"
    }
   ],
   "source": [
    "# mean percent 2015-2020\n",
    "with_subs[[\"appellants\", \"Count\", \"percent\"]].mean().to_frame(\"\")"
   ]
  },
  {
   "cell_type": "markdown",
   "id": "imposed-lambda",
   "metadata": {},
   "source": [
    "---\n",
    "\n",
    "---\n",
    "\n",
    "---"
   ]
  }
 ],
 "metadata": {
  "kernelspec": {
   "display_name": "Python 3",
   "language": "python",
   "name": "python3"
  },
  "language_info": {
   "codemirror_mode": {
    "name": "ipython",
    "version": 3
   },
   "file_extension": ".py",
   "mimetype": "text/x-python",
   "name": "python",
   "nbconvert_exporter": "python",
   "pygments_lexer": "ipython3",
   "version": "3.8.0"
  }
 },
 "nbformat": 4,
 "nbformat_minor": 5
}
